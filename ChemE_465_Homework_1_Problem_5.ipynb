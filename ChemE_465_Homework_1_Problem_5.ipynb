{
  "nbformat": 4,
  "nbformat_minor": 0,
  "metadata": {
    "colab": {
      "name": "ChemE 465 Homework 1 Problem 5.ipynb",
      "provenance": [],
      "mount_file_id": "16FmqtRiNkCBhba822VUQ4e4wLxRMADsp",
      "authorship_tag": "ABX9TyOhK9Zr/Sdf9BCiLPTQ4zEZ",
      "include_colab_link": true
    },
    "kernelspec": {
      "name": "python3",
      "display_name": "Python 3"
    },
    "language_info": {
      "name": "python"
    }
  },
  "cells": [
    {
      "cell_type": "markdown",
      "metadata": {
        "id": "view-in-github",
        "colab_type": "text"
      },
      "source": [
        "<a href=\"https://colab.research.google.com/github/efross/Probability-Baseball/blob/master/ChemE_465_Homework_1_Problem_5.ipynb\" target=\"_parent\"><img src=\"https://colab.research.google.com/assets/colab-badge.svg\" alt=\"Open In Colab\"/></a>"
      ]
    },
    {
      "cell_type": "code",
      "metadata": {
        "colab": {
          "base_uri": "https://localhost:8080/"
        },
        "id": "Es0WwATzHTt4",
        "outputId": "72f3edd2-c53f-4083-feb7-6a537ede17e1"
      },
      "source": [
        "import numpy as np\n",
        "import matplotlib.pyplot as plt\n",
        "from google.colab import drive\n",
        "drive.mount('/content/drive')"
      ],
      "execution_count": 2,
      "outputs": [
        {
          "output_type": "stream",
          "name": "stdout",
          "text": [
            "Drive already mounted at /content/drive; to attempt to forcibly remount, call drive.mount(\"/content/drive\", force_remount=True).\n"
          ]
        }
      ]
    },
    {
      "cell_type": "code",
      "metadata": {
        "id": "AiMvLs1jMFvH"
      },
      "source": [
        "kB = 0.001987 # kcal/mol/K, Boltzmann constant as R\n",
        "\n",
        "k1_T = np.loadtxt('k1_T.txt')\n",
        "k1 = k1_T[:, 1] # only k values from catalyst 1\n",
        "\n",
        "k2_T = np.loadtxt('k2_T.txt')\n",
        "k2 = k2_T[:, 1] # only k values from catalyst 2\n",
        "\n",
        "T = k1_T[:, 0] # T values same for both sets, so only one array needed"
      ],
      "execution_count": 3,
      "outputs": []
    },
    {
      "cell_type": "code",
      "metadata": {
        "colab": {
          "base_uri": "https://localhost:8080/",
          "height": 312
        },
        "id": "lfdWv5K0NKoO",
        "outputId": "bb7505f1-7417-4f0e-d85c-1b4880564139"
      },
      "source": [
        "# 5a)\n",
        "plt.plot(1000/T, np.log(k1), label = 'k1_T')\n",
        "plt.plot(1000/T, np.log(k2), label = 'k2_T')\n",
        "\n",
        "plt.title(\"Arrhenius Law Catalysts\")\n",
        "plt.ylabel(\"ln(k) [ln(1/s)]\")\n",
        "plt.xlabel(\"1000/T [1/K]\")\n",
        "\n",
        "plt.legend(loc = 'best')"
      ],
      "execution_count": 29,
      "outputs": [
        {
          "output_type": "execute_result",
          "data": {
            "text/plain": [
              "<matplotlib.legend.Legend at 0x7fc9106b62d0>"
            ]
          },
          "metadata": {},
          "execution_count": 29
        },
        {
          "output_type": "display_data",
          "data": {
            "image/png": "[encoded data removed]",
            "text/plain": [
              "<Figure size 432x288 with 1 Axes>"
            ]
          },
          "metadata": {
            "needs_background": "light"
          }
        }
      ]
    },
    {
      "cell_type": "code",
      "metadata": {
        "id": "0HW2utBCTx5Q"
      },
      "source": [
        "# 5b)\n",
        "Ea1 = (np.log(k1[1]) - np.log(k1[0]))/(1/(kB*T[0]) - 1/(kB*T[1]))\n",
        "A1 = np.exp(np.log(k1[0]) + Ea1/(kB*T[0]))\n",
        "\n",
        "Ea2 = (np.log(k2[1]) - np.log(k2[0]))/(1/(kB*T[0]) - 1/(kB*T[1]))\n",
        "A2 = np.exp(np.log(k2[0]) + Ea2/(kB*T[0]))"
      ],
      "execution_count": 45,
      "outputs": []
    },
    {
      "cell_type": "code",
      "metadata": {
        "colab": {
          "base_uri": "https://localhost:8080/"
        },
        "id": "PAohUlZfYfOw",
        "outputId": "66708080-537e-4b7f-aeca-86294758265a"
      },
      "source": [
        "# 5c)\n",
        "vals = np.array([\"Ea1 =\", Ea1, 'A1 =', A1, 'Ea2 =', Ea2, 'A2 =', A2])\n",
        "\n",
        "print(vals[0], vals[1])\n",
        "print(vals[2], vals[3])\n",
        "print(vals[4], vals[5])\n",
        "print(vals[6], vals[7])"
      ],
      "execution_count": 47,
      "outputs": [
        {
          "output_type": "stream",
          "name": "stdout",
          "text": [
            "Ea1 = 19.997944261240978\n",
            "A1 = 1.5000000000000364\n",
            "Ea2 = 22.4976872938961\n",
            "A2 = 3.000000000000078\n"
          ]
        }
      ]
    },
    {
      "cell_type": "code",
      "metadata": {
        "colab": {
          "base_uri": "https://localhost:8080/"
        },
        "id": "by5y_BcEk47V",
        "outputId": "c053513c-ae00-417b-94c2-758f87909dc5"
      },
      "source": [
        "# 5d)\n",
        "diff = np.array(np.log(k1) - np.log(k2))\n",
        "print(diff)"
      ],
      "execution_count": 43,
      "outputs": [
        {
          "output_type": "stream",
          "name": "stdout",
          "text": [
            "[11.88734116  4.33904815  2.4519749   1.59421434  1.10406544  0.78691027\n",
            "  0.56490165]\n"
          ]
        }
      ]
    }
  ]
}